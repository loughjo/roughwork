{
 "cells": [
  {
   "cell_type": "markdown",
   "id": "b495c969",
   "metadata": {},
   "source": [
    "# Assesments"
   ]
  },
  {
   "cell_type": "code",
   "execution_count": 1,
   "id": "766b623c",
   "metadata": {},
   "outputs": [],
   "source": [
    "# For generating numbers.\n",
    "import numpy as np\n",
    "\n",
    "# Plotting.\n",
    "import matplotlib.pyplot as plt"
   ]
  },
  {
   "cell_type": "markdown",
   "id": "80732aa1",
   "metadata": {},
   "source": [
    "## Standard Normal"
   ]
  },
  {
   "cell_type": "code",
   "execution_count": 2,
   "id": "74f5d448",
   "metadata": {},
   "outputs": [],
   "source": [
    "# Create new, seeded random number generator.\n",
    "rng = np.random.default_rng(0)\n",
    "\n",
    "# Generate 1000 numbers on a standard normal distribution.\n",
    "samples = rng.standard_normal(10000)"
   ]
  },
  {
   "cell_type": "code",
   "execution_count": 3,
   "id": "d82c9944",
   "metadata": {},
   "outputs": [
    {
     "data": {
      "text/plain": [
       "(array([  1.,   1.,   0.,   0.,   0.,   0.,   1.,   2.,   2.,   2.,   3.,\n",
       "          0.,   6.,   6.,  10.,   7.,   6.,  12.,  21.,   8.,  15.,  20.,\n",
       "         21.,  26.,  33.,  36.,  44.,  56.,  49.,  51.,  74.,  93.,  84.,\n",
       "         97., 103., 148., 144., 147., 182., 187., 189., 200., 233., 241.,\n",
       "        244., 266., 278., 233., 292., 316., 298., 296., 283., 249., 270.,\n",
       "        290., 273., 279., 254., 260., 265., 254., 225., 231., 204., 194.,\n",
       "        194., 179., 131., 153., 138., 112., 100.,  82.,  91.,  65.,  57.,\n",
       "         62.,  52.,  53.,  30.,  30.,  26.,  25.,  24.,  21.,  12.,  10.,\n",
       "          8.,  10.,   1.,   7.,   0.,   4.,   3.,   3.,   1.,   0.,   0.,\n",
       "          1.]),\n",
       " array([-3.89942173, -3.82560914, -3.75179655, -3.67798396, -3.60417137,\n",
       "        -3.53035878, -3.45654619, -3.3827336 , -3.30892101, -3.23510842,\n",
       "        -3.16129583, -3.08748324, -3.01367065, -2.93985806, -2.86604547,\n",
       "        -2.79223288, -2.7184203 , -2.64460771, -2.57079512, -2.49698253,\n",
       "        -2.42316994, -2.34935735, -2.27554476, -2.20173217, -2.12791958,\n",
       "        -2.05410699, -1.9802944 , -1.90648181, -1.83266922, -1.75885663,\n",
       "        -1.68504404, -1.61123145, -1.53741886, -1.46360627, -1.38979368,\n",
       "        -1.31598109, -1.2421685 , -1.16835591, -1.09454332, -1.02073073,\n",
       "        -0.94691814, -0.87310555, -0.79929296, -0.72548037, -0.65166778,\n",
       "        -0.57785519, -0.5040426 , -0.43023002, -0.35641743, -0.28260484,\n",
       "        -0.20879225, -0.13497966, -0.06116707,  0.01264552,  0.08645811,\n",
       "         0.1602707 ,  0.23408329,  0.30789588,  0.38170847,  0.45552106,\n",
       "         0.52933365,  0.60314624,  0.67695883,  0.75077142,  0.82458401,\n",
       "         0.8983966 ,  0.97220919,  1.04602178,  1.11983437,  1.19364696,\n",
       "         1.26745955,  1.34127214,  1.41508473,  1.48889732,  1.56270991,\n",
       "         1.6365225 ,  1.71033509,  1.78414768,  1.85796026,  1.93177285,\n",
       "         2.00558544,  2.07939803,  2.15321062,  2.22702321,  2.3008358 ,\n",
       "         2.37464839,  2.44846098,  2.52227357,  2.59608616,  2.66989875,\n",
       "         2.74371134,  2.81752393,  2.89133652,  2.96514911,  3.0389617 ,\n",
       "         3.11277429,  3.18658688,  3.26039947,  3.33421206,  3.40802465,\n",
       "         3.48183724]),\n",
       " <BarContainer object of 100 artists>)"
      ]
     },
     "execution_count": 3,
     "metadata": {},
     "output_type": "execute_result"
    },
    {
     "data": {
      "image/png": "[encoded data removed]",
      "text/plain": [
       "<Figure size 432x288 with 1 Axes>"
      ]
     },
     "metadata": {
      "needs_background": "light"
     },
     "output_type": "display_data"
    }
   ],
   "source": [
    "# Create a figure.\n",
    "fig, ax = plt.subplots()\n",
    "\n",
    "# Create histogram.\n",
    "ax.hist(samples, bins=100)"
   ]
  },
  {
   "cell_type": "markdown",
   "id": "d5d3a407",
   "metadata": {},
   "source": [
    "# Exercise 1"
   ]
  },
  {
   "cell_type": "markdown",
   "id": "92d31d18",
   "metadata": {},
   "source": [
    "It is somewhat interesting that (5 * 4 * 3 * 2 * 1) perfectly divides (10 * 9 * 8 * 7 * 6) - there's no remainder.\n",
    "\n",
    "If we only wanted exactly four heads as opposed to five, the equivalent calculation would be (10 * 9 * 8 * 7) / (4 * 3 * 2 * 1).\n",
    "\n",
    "Does that evenly divide too? What is the formula in general?\n",
    "\n",
    "Does it always come out as a positive whole number?"
   ]
  },
  {
   "cell_type": "markdown",
   "id": "b1bc682e",
   "metadata": {},
   "source": [
    "#### Below you can see when we divide (10 * 9 * 8 * 7)  by (4 * 3 * 2 * 1) its a positive number."
   ]
  },
  {
   "cell_type": "code",
   "execution_count": 4,
   "id": "c6566e85",
   "metadata": {},
   "outputs": [
    {
     "data": {
      "text/plain": [
       "210"
      ]
     },
     "execution_count": 4,
     "metadata": {},
     "output_type": "execute_result"
    }
   ],
   "source": [
    "(10 * 9 * 8 * 7) // (4 * 3 * 2 * 1)"
   ]
  },
  {
   "cell_type": "markdown",
   "id": "bcdabf80",
   "metadata": {},
   "source": [
    "### As you can see above "
   ]
  },
  {
   "cell_type": "code",
   "execution_count": null,
   "id": "5b77d16d",
   "metadata": {},
   "outputs": [],
   "source": [
    "# Number of combinations.\n",
    "no_combs = 0\n",
    "\n",
    "# Select the first position.\n",
    "for first in [1, 2, 3, 4, 5, 6, 7, 8, 9, 10]:\n",
    "    # Select the position for the second position.\n",
    "    for second in [1, 2, 3, 4, 5, 6, 7, 8, 9, 10]:\n",
    "        # Make sure the first and second positions are different.\n",
    "        if not first == second:\n",
    "            # Print the combination.\n",
    "            print(f'({first:2},{second:2})')\n",
    "            # Add one to number of combinations.\n",
    "            no_combs = no_combs + 1\n",
    "\n",
    "# Print total number of combinations.\n",
    "print(f'Total combinations is {no_combs}.')"
   ]
  },
  {
   "cell_type": "markdown",
   "id": "1386f78d",
   "metadata": {},
   "source": [
    "# Exercise 2"
   ]
  },
  {
   "cell_type": "markdown",
   "id": "0335ac03",
   "metadata": {},
   "source": [
    "Note that there are the same number of ways to get 4 tails as there to get 4 heads. Explain why this is."
   ]
  },
  {
   "cell_type": "markdown",
   "id": "d12ef429",
   "metadata": {},
   "source": [
    "To get 4 tails or 4 heads is the same probability\n",
    "\n",
    "T T T T H H H H H H"
   ]
  },
  {
   "cell_type": "code",
   "execution_count": 5,
   "id": "5252fc36",
   "metadata": {},
   "outputs": [
    {
     "data": {
      "text/plain": [
       "210"
      ]
     },
     "execution_count": 5,
     "metadata": {},
     "output_type": "execute_result"
    }
   ],
   "source": [
    "(10 * 9 * 8 * 7) // (4 * 3 * 2 * 1)"
   ]
  },
  {
   "cell_type": "markdown",
   "id": "54816b55",
   "metadata": {},
   "source": [
    "There is only 1 way to get 10 Heads or indeed 10 Tails"
   ]
  },
  {
   "cell_type": "code",
   "execution_count": 9,
   "id": "91ee9853",
   "metadata": {},
   "outputs": [
    {
     "data": {
      "text/plain": [
       "1"
      ]
     },
     "execution_count": 9,
     "metadata": {},
     "output_type": "execute_result"
    }
   ],
   "source": [
    "(10 * 9 * 8 * 7 * 6 * 5 * 4 * 3 * 2 * 1) // (10 * 9 * 8 * 7 * 6 * 5 * 4 * 3 * 2 * 1)"
   ]
  },
  {
   "cell_type": "markdown",
   "id": "ae3f8ed9",
   "metadata": {},
   "source": [
    "There are 10 ways to get exactly 9 heads"
   ]
  },
  {
   "cell_type": "code",
   "execution_count": 10,
   "id": "550058dd",
   "metadata": {},
   "outputs": [
    {
     "data": {
      "text/plain": [
       "10"
      ]
     },
     "execution_count": 10,
     "metadata": {},
     "output_type": "execute_result"
    }
   ],
   "source": [
    "(10 * 9 * 8 * 7 * 6 * 5 * 4 * 3 * 2) // (9 * 8 * 7 * 6 * 5 * 4 * 3 * 2 * 1)"
   ]
  },
  {
   "cell_type": "code",
   "execution_count": null,
   "id": "e4810484",
   "metadata": {},
   "outputs": [],
   "source": [
    "There are 45 ways to get exactly 8 Heads"
   ]
  },
  {
   "cell_type": "code",
   "execution_count": 11,
   "id": "aaf4b8e6",
   "metadata": {},
   "outputs": [
    {
     "data": {
      "text/plain": [
       "45"
      ]
     },
     "execution_count": 11,
     "metadata": {},
     "output_type": "execute_result"
    }
   ],
   "source": [
    "(10 * 9 * 8 * 7 * 6 * 5 * 4 * 3) // (8 * 7 * 6 * 5 * 4 * 3 * 2 * 1)"
   ]
  },
  {
   "cell_type": "code",
   "execution_count": null,
   "id": "02a76404",
   "metadata": {},
   "outputs": [],
   "source": [
    "There are 120 ways to get exactly 7 Heads"
   ]
  },
  {
   "cell_type": "code",
   "execution_count": 12,
   "id": "a36c953b",
   "metadata": {},
   "outputs": [
    {
     "data": {
      "text/plain": [
       "120"
      ]
     },
     "execution_count": 12,
     "metadata": {},
     "output_type": "execute_result"
    }
   ],
   "source": [
    "(10 * 9 * 8 * 7 * 6 * 5 * 4) // (7 * 6 * 5 * 4 * 3 * 2 * 1)"
   ]
  },
  {
   "cell_type": "code",
   "execution_count": null,
   "id": "41cb3082",
   "metadata": {},
   "outputs": [],
   "source": [
    "There are 210 ways to get exactly 6 Heads"
   ]
  },
  {
   "cell_type": "code",
   "execution_count": 13,
   "id": "e9507619",
   "metadata": {},
   "outputs": [
    {
     "data": {
      "text/plain": [
       "210"
      ]
     },
     "execution_count": 13,
     "metadata": {},
     "output_type": "execute_result"
    }
   ],
   "source": [
    "(10 * 9 * 8 * 7 * 6 * 5) // (6 * 5 * 4 * 3 * 2 * 1)"
   ]
  },
  {
   "cell_type": "code",
   "execution_count": null,
   "id": "d535d176",
   "metadata": {},
   "outputs": [],
   "source": [
    "There are 252 ways to get exactly 5 Heads"
   ]
  },
  {
   "cell_type": "code",
   "execution_count": 14,
   "id": "c7767469",
   "metadata": {},
   "outputs": [
    {
     "data": {
      "text/plain": [
       "252"
      ]
     },
     "execution_count": 14,
     "metadata": {},
     "output_type": "execute_result"
    }
   ],
   "source": [
    "(10 * 9 * 8 * 7 * 6) // (5 * 4 * 3 * 2 * 1)"
   ]
  },
  {
   "cell_type": "markdown",
   "id": "9f10ea0e",
   "metadata": {},
   "source": [
    "There are 210 ways to get exactly 4 Heads"
   ]
  },
  {
   "cell_type": "code",
   "execution_count": 16,
   "id": "4274b0b3",
   "metadata": {},
   "outputs": [
    {
     "data": {
      "text/plain": [
       "210"
      ]
     },
     "execution_count": 16,
     "metadata": {},
     "output_type": "execute_result"
    }
   ],
   "source": [
    "(10 * 9 * 8 * 7) // (4 * 3 * 2 * 1)"
   ]
  },
  {
   "cell_type": "markdown",
   "id": "c488d9eb",
   "metadata": {},
   "source": [
    "There are 120 ways to get exactly 3 Heads"
   ]
  },
  {
   "cell_type": "code",
   "execution_count": 17,
   "id": "14c20504",
   "metadata": {},
   "outputs": [
    {
     "data": {
      "text/plain": [
       "120"
      ]
     },
     "execution_count": 17,
     "metadata": {},
     "output_type": "execute_result"
    }
   ],
   "source": [
    "(10 * 9 * 8) // (3 * 2 * 1)"
   ]
  },
  {
   "cell_type": "markdown",
   "id": "991e684d",
   "metadata": {},
   "source": [
    "There are 45 ways to get exactly 2 Heads"
   ]
  },
  {
   "cell_type": "code",
   "execution_count": 18,
   "id": "4ec43e87",
   "metadata": {},
   "outputs": [
    {
     "data": {
      "text/plain": [
       "45"
      ]
     },
     "execution_count": 18,
     "metadata": {},
     "output_type": "execute_result"
    }
   ],
   "source": [
    "(10 * 9) // (2 * 1)"
   ]
  },
  {
   "cell_type": "markdown",
   "id": "cdc83b1a",
   "metadata": {},
   "source": [
    "There are 10 ways to get exactly 1 Heads"
   ]
  },
  {
   "cell_type": "code",
   "execution_count": 19,
   "id": "9d94a0f5",
   "metadata": {},
   "outputs": [
    {
     "data": {
      "text/plain": [
       "10"
      ]
     },
     "execution_count": 19,
     "metadata": {},
     "output_type": "execute_result"
    }
   ],
   "source": [
    "(10) // (1)"
   ]
  },
  {
   "cell_type": "code",
   "execution_count": 18,
   "id": "2d4001c2",
   "metadata": {},
   "outputs": [],
   "source": [
    "import random\n",
    "HeadsORTails = ['T','H']\n",
    "#randomLetter = random.choice(HeadsORTails)"
   ]
  },
  {
   "cell_type": "code",
   "execution_count": 19,
   "id": "f2efccad",
   "metadata": {},
   "outputs": [],
   "source": [
    "#randomLetter"
   ]
  },
  {
   "cell_type": "code",
   "execution_count": 37,
   "id": "c4efdbed",
   "metadata": {},
   "outputs": [
    {
     "data": {
      "text/plain": [
       "'THHTTHTHTTH'"
      ]
     },
     "execution_count": 37,
     "metadata": {},
     "output_type": "execute_result"
    }
   ],
   "source": [
    "num = 0\n",
    "while num < 10:\n",
    "    randomLetter = randomLetter + random.choice(HeadsORTails)\n",
    "    num = num + 1\n",
    "    occurences = \n",
    "randomLetter"
   ]
  },
  {
   "cell_type": "markdown",
   "id": "758ecfbb",
   "metadata": {},
   "source": [
    "# Exercise 3"
   ]
  },
  {
   "cell_type": "markdown",
   "id": "f076adff",
   "metadata": {},
   "source": [
    "Plot bar charts or histograms of any three different distributions listed at the following link:\n",
    "\n",
    "https://numpy.org/doc/stable/reference/random/generator.html#distributions"
   ]
  },
  {
   "cell_type": "markdown",
   "id": "5a54e085",
   "metadata": {},
   "source": [
    "### Gamma Distribution"
   ]
  },
  {
   "cell_type": "code",
   "execution_count": 10,
   "id": "bb52826a",
   "metadata": {},
   "outputs": [],
   "source": [
    "shape, scale = 2., 2.\n",
    "s = np.random.gamma(shape, scale, 1000)"
   ]
  },
  {
   "cell_type": "code",
   "execution_count": 12,
   "id": "978343b4",
   "metadata": {},
   "outputs": [
    {
     "data": {
      "image/png": "[encoded data removed]",
      "text/plain": [
       "<Figure size 432x288 with 1 Axes>"
      ]
     },
     "metadata": {
      "needs_background": "light"
     },
     "output_type": "display_data"
    }
   ],
   "source": [
    "import matplotlib.pyplot as plt\n",
    "import scipy.special as sps  \n",
    "count, bins, ignored = plt.hist(s, 50, density=True)\n",
    "y = bins**(shape-1)*(np.exp(-bins/scale) /  \n",
    "                     (sps.gamma(shape)*scale**shape))\n",
    "plt.plot(bins, y, linewidth=2, color='r')  \n",
    "plt.show()"
   ]
  },
  {
   "cell_type": "code",
   "execution_count": 19,
   "id": "e8be2719",
   "metadata": {},
   "outputs": [],
   "source": [
    "# Generate 1000 numbers on a standard normal distribution.\n",
    "samples_1 = rng.gamma(2,2,10000)"
   ]
  },
  {
   "cell_type": "code",
   "execution_count": 2,
   "id": "b8e7b482",
   "metadata": {},
   "outputs": [
    {
     "ename": "NameError",
     "evalue": "name 'plt' is not defined",
     "output_type": "error",
     "traceback": [
      "\u001b[1;31m---------------------------------------------------------------------------\u001b[0m",
      "\u001b[1;31mNameError\u001b[0m                                 Traceback (most recent call last)",
      "\u001b[1;32m~\\AppData\\Local\\Temp/ipykernel_40564/1084689669.py\u001b[0m in \u001b[0;36m<module>\u001b[1;34m\u001b[0m\n\u001b[0;32m      1\u001b[0m \u001b[1;31m# Create a figure.\u001b[0m\u001b[1;33m\u001b[0m\u001b[1;33m\u001b[0m\u001b[0m\n\u001b[1;32m----> 2\u001b[1;33m \u001b[0mfig\u001b[0m\u001b[1;33m,\u001b[0m \u001b[0max\u001b[0m \u001b[1;33m=\u001b[0m \u001b[0mplt\u001b[0m\u001b[1;33m.\u001b[0m\u001b[0msubplots\u001b[0m\u001b[1;33m(\u001b[0m\u001b[1;33m)\u001b[0m\u001b[1;33m\u001b[0m\u001b[1;33m\u001b[0m\u001b[0m\n\u001b[0m\u001b[0;32m      3\u001b[0m \u001b[1;33m\u001b[0m\u001b[0m\n\u001b[0;32m      4\u001b[0m \u001b[1;31m# Create histogram.\u001b[0m\u001b[1;33m\u001b[0m\u001b[1;33m\u001b[0m\u001b[0m\n\u001b[0;32m      5\u001b[0m \u001b[0max\u001b[0m\u001b[1;33m.\u001b[0m\u001b[0mhist\u001b[0m\u001b[1;33m(\u001b[0m\u001b[0msamples_1\u001b[0m\u001b[1;33m,\u001b[0m \u001b[0mbins\u001b[0m\u001b[1;33m=\u001b[0m\u001b[1;36m100\u001b[0m\u001b[1;33m)\u001b[0m\u001b[1;33m\u001b[0m\u001b[1;33m\u001b[0m\u001b[0m\n",
      "\u001b[1;31mNameError\u001b[0m: name 'plt' is not defined"
     ]
    }
   ],
   "source": [
    "# Create a figure.\n",
    "fig, ax = plt.subplots()\n",
    "\n",
    "# Create histogram.\n",
    "ax.hist(samples_1, bins=100)\n",
    "\n",
    "\n"
   ]
  },
  {
   "cell_type": "markdown",
   "id": "72334532",
   "metadata": {},
   "source": [
    "### Pareto"
   ]
  },
  {
   "cell_type": "code",
   "execution_count": 36,
   "id": "0aa5929b",
   "metadata": {},
   "outputs": [],
   "source": [
    "samples_2 = rng.rayleigh(2, 100000)"
   ]
  },
  {
   "cell_type": "code",
   "execution_count": 37,
   "id": "ca496729",
   "metadata": {},
   "outputs": [
    {
     "data": {
      "text/plain": [
       "(array([1.240e+02, 3.370e+02, 5.380e+02, 7.490e+02, 9.660e+02, 1.188e+03,\n",
       "        1.316e+03, 1.560e+03, 1.717e+03, 1.837e+03, 1.998e+03, 2.180e+03,\n",
       "        2.329e+03, 2.412e+03, 2.480e+03, 2.580e+03, 2.499e+03, 2.702e+03,\n",
       "        2.761e+03, 2.763e+03, 2.780e+03, 2.781e+03, 2.884e+03, 2.832e+03,\n",
       "        2.771e+03, 2.747e+03, 2.582e+03, 2.653e+03, 2.507e+03, 2.420e+03,\n",
       "        2.370e+03, 2.354e+03, 2.252e+03, 2.196e+03, 2.024e+03, 1.962e+03,\n",
       "        1.893e+03, 1.761e+03, 1.644e+03, 1.524e+03, 1.516e+03, 1.381e+03,\n",
       "        1.294e+03, 1.296e+03, 1.144e+03, 1.069e+03, 9.910e+02, 8.660e+02,\n",
       "        8.650e+02, 7.830e+02, 6.610e+02, 6.130e+02, 6.180e+02, 5.340e+02,\n",
       "        5.030e+02, 4.440e+02, 3.760e+02, 3.690e+02, 3.390e+02, 2.760e+02,\n",
       "        2.370e+02, 2.400e+02, 1.880e+02, 1.860e+02, 1.620e+02, 1.380e+02,\n",
       "        1.090e+02, 9.600e+01, 9.100e+01, 8.400e+01, 7.600e+01, 5.600e+01,\n",
       "        6.300e+01, 5.500e+01, 4.200e+01, 3.300e+01, 4.100e+01, 3.500e+01,\n",
       "        2.100e+01, 2.100e+01, 1.300e+01, 1.600e+01, 1.200e+01, 1.500e+01,\n",
       "        9.000e+00, 5.000e+00, 6.000e+00, 3.000e+00, 9.000e+00, 3.000e+00,\n",
       "        7.000e+00, 5.000e+00, 3.000e+00, 2.000e+00, 0.000e+00, 0.000e+00,\n",
       "        2.000e+00, 0.000e+00, 1.000e+00, 4.000e+00]),\n",
       " array([5.69102967e-03, 9.82685239e-02, 1.90846018e-01, 2.83423512e-01,\n",
       "        3.76001007e-01, 4.68578501e-01, 5.61155995e-01, 6.53733489e-01,\n",
       "        7.46310984e-01, 8.38888478e-01, 9.31465972e-01, 1.02404347e+00,\n",
       "        1.11662096e+00, 1.20919846e+00, 1.30177595e+00, 1.39435344e+00,\n",
       "        1.48693094e+00, 1.57950843e+00, 1.67208593e+00, 1.76466342e+00,\n",
       "        1.85724091e+00, 1.94981841e+00, 2.04239590e+00, 2.13497340e+00,\n",
       "        2.22755089e+00, 2.32012839e+00, 2.41270588e+00, 2.50528337e+00,\n",
       "        2.59786087e+00, 2.69043836e+00, 2.78301586e+00, 2.87559335e+00,\n",
       "        2.96817085e+00, 3.06074834e+00, 3.15332583e+00, 3.24590333e+00,\n",
       "        3.33848082e+00, 3.43105832e+00, 3.52363581e+00, 3.61621331e+00,\n",
       "        3.70879080e+00, 3.80136829e+00, 3.89394579e+00, 3.98652328e+00,\n",
       "        4.07910078e+00, 4.17167827e+00, 4.26425577e+00, 4.35683326e+00,\n",
       "        4.44941075e+00, 4.54198825e+00, 4.63456574e+00, 4.72714324e+00,\n",
       "        4.81972073e+00, 4.91229823e+00, 5.00487572e+00, 5.09745321e+00,\n",
       "        5.19003071e+00, 5.28260820e+00, 5.37518570e+00, 5.46776319e+00,\n",
       "        5.56034069e+00, 5.65291818e+00, 5.74549567e+00, 5.83807317e+00,\n",
       "        5.93065066e+00, 6.02322816e+00, 6.11580565e+00, 6.20838315e+00,\n",
       "        6.30096064e+00, 6.39353813e+00, 6.48611563e+00, 6.57869312e+00,\n",
       "        6.67127062e+00, 6.76384811e+00, 6.85642561e+00, 6.94900310e+00,\n",
       "        7.04158059e+00, 7.13415809e+00, 7.22673558e+00, 7.31931308e+00,\n",
       "        7.41189057e+00, 7.50446806e+00, 7.59704556e+00, 7.68962305e+00,\n",
       "        7.78220055e+00, 7.87477804e+00, 7.96735554e+00, 8.05993303e+00,\n",
       "        8.15251052e+00, 8.24508802e+00, 8.33766551e+00, 8.43024301e+00,\n",
       "        8.52282050e+00, 8.61539800e+00, 8.70797549e+00, 8.80055298e+00,\n",
       "        8.89313048e+00, 8.98570797e+00, 9.07828547e+00, 9.17086296e+00,\n",
       "        9.26344046e+00]),\n",
       " <BarContainer object of 100 artists>)"
      ]
     },
     "execution_count": 37,
     "metadata": {},
     "output_type": "execute_result"
    },
    {
     "data": {
      "image/png": "[encoded data removed]",
      "text/plain": [
       "<Figure size 432x288 with 1 Axes>"
      ]
     },
     "metadata": {
      "needs_background": "light"
     },
     "output_type": "display_data"
    }
   ],
   "source": [
    "# Create a figure.\n",
    "fig, ax = plt.subplots()\n",
    "\n",
    "# Create histogram.\n",
    "ax.hist(samples_2, bins=100)\n"
   ]
  },
  {
   "cell_type": "code",
   "execution_count": null,
   "id": "f9251083",
   "metadata": {},
   "outputs": [],
   "source": []
  }
 ],
 "metadata": {
  "kernelspec": {
   "display_name": "Python 3 (ipykernel)",
   "language": "python",
   "name": "python3"
  },
  "language_info": {
   "codemirror_mode": {
    "name": "ipython",
    "version": 3
   },
   "file_extension": ".py",
   "mimetype": "text/x-python",
   "name": "python",
   "nbconvert_exporter": "python",
   "pygments_lexer": "ipython3",
   "version": "3.9.7"
  }
 },
 "nbformat": 4,
 "nbformat_minor": 5
}
